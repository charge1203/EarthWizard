{
 "cells": [
  {
   "cell_type": "code",
   "execution_count": 1,
   "id": "b9c5920d",
   "metadata": {},
   "outputs": [
    {
     "name": "stdout",
     "output_type": "stream",
     "text": [
      "Directory changed\n"
     ]
    }
   ],
   "source": [
    "import os\n",
    "\n",
    "try:\n",
    "    os.chdir('/Users/cha/Desktop/공모전/SWING 2023 교육&해커톤/Project/data')\n",
    "    print(\"Directory changed\")\n",
    "except OSError:\n",
    "    print(\"Can't change the Current Working Directory\")"
   ]
  },
  {
   "cell_type": "code",
   "execution_count": 2,
   "id": "6478d106",
   "metadata": {},
   "outputs": [],
   "source": [
    "import pandas as pd\n",
    "import numpy as np\n",
    "\n",
    "import matplotlib.pyplot as plt\n",
    "import seaborn as sns\n",
    "\n",
    "from datetime import datetime\n",
    "from datetime import timedelta\n",
    "\n",
    "%matplotlib inline\n",
    "\n",
    "import warnings\n",
    "warnings.filterwarnings('ignore')"
   ]
  },
  {
   "cell_type": "code",
   "execution_count": 3,
   "id": "315aa662",
   "metadata": {},
   "outputs": [
    {
     "data": {
      "text/html": [
       "<style>.container { width:95% !important; }</style>"
      ],
      "text/plain": [
       "<IPython.core.display.HTML object>"
      ]
     },
     "metadata": {},
     "output_type": "display_data"
    }
   ],
   "source": [
    "from IPython.core.display import display, HTML\n",
    "display(HTML(\"<style>.container { width:95% !important; }</style>\"))"
   ]
  },
  {
   "cell_type": "code",
   "execution_count": 4,
   "id": "7da00505",
   "metadata": {},
   "outputs": [],
   "source": [
    "import platform\n",
    "if platform.system() == 'Darwin': \n",
    "        plt.rc('font', family='AppleGothic') \n",
    "elif platform.system() == 'Windows': \n",
    "        plt.rc('font', family='Malgun Gothic') \n",
    "elif platform.system() == 'Linux': \n",
    "        plt.rc('font', family='Malgun Gothic')\n",
    "plt.rcParams['axes.unicode_minus'] = False"
   ]
  },
  {
   "cell_type": "code",
   "execution_count": 5,
   "id": "84305e3c",
   "metadata": {
    "scrolled": true
   },
   "outputs": [
    {
     "data": {
      "text/plain": [
       "'/Users/cha/Desktop/공모전/SWING 2023 교육&해커톤/Project/data'"
      ]
     },
     "execution_count": 5,
     "metadata": {},
     "output_type": "execute_result"
    }
   ],
   "source": [
    "os.getcwd()"
   ]
  },
  {
   "cell_type": "markdown",
   "id": "dba3f0b4",
   "metadata": {},
   "source": [
    "# Data Load"
   ]
  },
  {
   "cell_type": "code",
   "execution_count": 6,
   "id": "55c27930",
   "metadata": {},
   "outputs": [
    {
     "data": {
      "text/plain": [
       "['서울특별시 공공자전거 이용정보(시간대별)_22.09.csv',\n",
       " '서울특별시 공공자전거 이용정보(시간대별)_22.08.csv',\n",
       " '서울특별시 공공자전거 이용정보(시간대별)_22.06.csv',\n",
       " '서울특별시 공공자전거 이용정보(시간대별)_22.12.csv',\n",
       " '서울특별시 공공자전거 이용정보(시간대별)_22.07.csv',\n",
       " '서울특별시 공공자전거 이용정보(시간대별)_22.11.csv',\n",
       " '서울특별시 공공자전거 이용정보(시간대별)_22.05.csv',\n",
       " '서울특별시 공공자전거 이용정보(시간대별)_22.04.csv',\n",
       " '서울특별시 공공자전거 이용정보(시간대별)_22.10.csv',\n",
       " '서울특별시 공공자전거 이용정보(시간대별)_22.01.csv',\n",
       " '서울특별시 공공자전거 이용정보(시간대별)_22.03.csv',\n",
       " '서울특별시 공공자전거 이용정보(시간대별)_22.02.csv']"
      ]
     },
     "execution_count": 6,
     "metadata": {},
     "output_type": "execute_result"
    }
   ],
   "source": [
    "dirs = os.getcwd() + '/시간대별이용정보/'\n",
    "files = os.listdir(dirs)\n",
    "files"
   ]
  },
  {
   "cell_type": "code",
   "execution_count": 7,
   "id": "39682f95",
   "metadata": {
    "scrolled": false
   },
   "outputs": [
    {
     "name": "stdout",
     "output_type": "stream",
     "text": [
      "1/12 loaded...\n",
      "2/12 loaded...\n",
      "3/12 loaded...\n",
      "4/12 loaded...\n",
      "5/12 loaded...\n",
      "6/12 loaded...\n",
      "7/12 loaded...\n",
      "8/12 loaded...\n",
      "9/12 loaded...\n",
      "10/12 loaded...\n",
      "11/12 loaded...\n",
      "12/12 loaded...\n"
     ]
    }
   ],
   "source": [
    "try:\n",
    "    data = pd.read_pickle('data/dataframes/2022.csv')\n",
    "except:\n",
    "    data = pd.DataFrame()\n",
    "\n",
    "    total = len(files)\n",
    "    for i, file in enumerate(files, 1):\n",
    "        print(\"%d/%d loaded...\" %(i, total))\n",
    "\n",
    "        formatter = file.split('.')[1]\n",
    "\n",
    "        _data = pd.read_csv(dirs + file,encoding='cp949')\n",
    "        data = pd.concat([data, _data])"
   ]
  },
  {
   "cell_type": "code",
   "execution_count": 8,
   "id": "890f4893",
   "metadata": {},
   "outputs": [
    {
     "data": {
      "text/html": [
       "<div>\n",
       "<style scoped>\n",
       "    .dataframe tbody tr th:only-of-type {\n",
       "        vertical-align: middle;\n",
       "    }\n",
       "\n",
       "    .dataframe tbody tr th {\n",
       "        vertical-align: top;\n",
       "    }\n",
       "\n",
       "    .dataframe thead th {\n",
       "        text-align: right;\n",
       "    }\n",
       "</style>\n",
       "<table border=\"1\" class=\"dataframe\">\n",
       "  <thead>\n",
       "    <tr style=\"text-align: right;\">\n",
       "      <th></th>\n",
       "      <th>대여일자</th>\n",
       "      <th>대여시간</th>\n",
       "      <th>대여소번호</th>\n",
       "      <th>대여소명</th>\n",
       "      <th>대여구분코드</th>\n",
       "      <th>성별</th>\n",
       "      <th>연령대코드</th>\n",
       "      <th>이용건수</th>\n",
       "      <th>운동량</th>\n",
       "      <th>탄소량</th>\n",
       "      <th>이동거리(M)</th>\n",
       "      <th>이용시간(분)</th>\n",
       "    </tr>\n",
       "  </thead>\n",
       "  <tbody>\n",
       "    <tr>\n",
       "      <th>0</th>\n",
       "      <td>2022-09-01</td>\n",
       "      <td>0</td>\n",
       "      <td>1665</td>\n",
       "      <td>1665. 양지근린공원앞</td>\n",
       "      <td>정기권</td>\n",
       "      <td>NaN</td>\n",
       "      <td>~10대</td>\n",
       "      <td>1</td>\n",
       "      <td>18.79</td>\n",
       "      <td>0.17</td>\n",
       "      <td>730.00</td>\n",
       "      <td>3</td>\n",
       "    </tr>\n",
       "    <tr>\n",
       "      <th>1</th>\n",
       "      <td>2022-09-01</td>\n",
       "      <td>0</td>\n",
       "      <td>1669</td>\n",
       "      <td>1669. 중계역 3번출구</td>\n",
       "      <td>정기권</td>\n",
       "      <td>NaN</td>\n",
       "      <td>~10대</td>\n",
       "      <td>1</td>\n",
       "      <td>36.41</td>\n",
       "      <td>0.40</td>\n",
       "      <td>1735.03</td>\n",
       "      <td>11</td>\n",
       "    </tr>\n",
       "    <tr>\n",
       "      <th>2</th>\n",
       "      <td>2022-09-01</td>\n",
       "      <td>0</td>\n",
       "      <td>1165</td>\n",
       "      <td>1165. 마곡중학교 후문</td>\n",
       "      <td>정기권</td>\n",
       "      <td>NaN</td>\n",
       "      <td>~10대</td>\n",
       "      <td>1</td>\n",
       "      <td>0.00</td>\n",
       "      <td>0.00</td>\n",
       "      <td>0.00</td>\n",
       "      <td>1</td>\n",
       "    </tr>\n",
       "    <tr>\n",
       "      <th>3</th>\n",
       "      <td>2022-09-01</td>\n",
       "      <td>0</td>\n",
       "      <td>764</td>\n",
       "      <td>764. 목동청소년수련관</td>\n",
       "      <td>정기권</td>\n",
       "      <td>NaN</td>\n",
       "      <td>~10대</td>\n",
       "      <td>1</td>\n",
       "      <td>27.95</td>\n",
       "      <td>0.22</td>\n",
       "      <td>941.14</td>\n",
       "      <td>6</td>\n",
       "    </tr>\n",
       "    <tr>\n",
       "      <th>4</th>\n",
       "      <td>2022-09-01</td>\n",
       "      <td>0</td>\n",
       "      <td>3533</td>\n",
       "      <td>3533. 건대입구역 사거리(롯데백화점)</td>\n",
       "      <td>정기권</td>\n",
       "      <td>NaN</td>\n",
       "      <td>~10대</td>\n",
       "      <td>1</td>\n",
       "      <td>61.05</td>\n",
       "      <td>0.55</td>\n",
       "      <td>2371.67</td>\n",
       "      <td>20</td>\n",
       "    </tr>\n",
       "    <tr>\n",
       "      <th>...</th>\n",
       "      <td>...</td>\n",
       "      <td>...</td>\n",
       "      <td>...</td>\n",
       "      <td>...</td>\n",
       "      <td>...</td>\n",
       "      <td>...</td>\n",
       "      <td>...</td>\n",
       "      <td>...</td>\n",
       "      <td>...</td>\n",
       "      <td>...</td>\n",
       "      <td>...</td>\n",
       "      <td>...</td>\n",
       "    </tr>\n",
       "    <tr>\n",
       "      <th>1271371</th>\n",
       "      <td>2022-02-28</td>\n",
       "      <td>23</td>\n",
       "      <td>1019</td>\n",
       "      <td>1019. 다성이즈빌아파트(호원대 대각선 맞은편)</td>\n",
       "      <td>정기권</td>\n",
       "      <td>M</td>\n",
       "      <td>기타</td>\n",
       "      <td>1</td>\n",
       "      <td>39.46</td>\n",
       "      <td>0.29</td>\n",
       "      <td>1245.50</td>\n",
       "      <td>7</td>\n",
       "    </tr>\n",
       "    <tr>\n",
       "      <th>1271372</th>\n",
       "      <td>2022-02-28</td>\n",
       "      <td>23</td>\n",
       "      <td>226</td>\n",
       "      <td>226. 샛강역 1번출구 앞</td>\n",
       "      <td>정기권</td>\n",
       "      <td>M</td>\n",
       "      <td>기타</td>\n",
       "      <td>1</td>\n",
       "      <td>32.30</td>\n",
       "      <td>0.29</td>\n",
       "      <td>1254.67</td>\n",
       "      <td>14</td>\n",
       "    </tr>\n",
       "    <tr>\n",
       "      <th>1271373</th>\n",
       "      <td>2022-02-28</td>\n",
       "      <td>23</td>\n",
       "      <td>2145</td>\n",
       "      <td>2145. 은천초등학교 육교</td>\n",
       "      <td>정기권</td>\n",
       "      <td>M</td>\n",
       "      <td>기타</td>\n",
       "      <td>1</td>\n",
       "      <td>0.00</td>\n",
       "      <td>0.00</td>\n",
       "      <td>0.00</td>\n",
       "      <td>9</td>\n",
       "    </tr>\n",
       "    <tr>\n",
       "      <th>1271374</th>\n",
       "      <td>2022-02-28</td>\n",
       "      <td>23</td>\n",
       "      <td>1509</td>\n",
       "      <td>1509. 서울북부수도사업소</td>\n",
       "      <td>정기권</td>\n",
       "      <td>M</td>\n",
       "      <td>기타</td>\n",
       "      <td>1</td>\n",
       "      <td>0.00</td>\n",
       "      <td>0.00</td>\n",
       "      <td>0.00</td>\n",
       "      <td>4</td>\n",
       "    </tr>\n",
       "    <tr>\n",
       "      <th>1271375</th>\n",
       "      <td>2022-02-28</td>\n",
       "      <td>23</td>\n",
       "      <td>417</td>\n",
       "      <td>417. DMC역 2번출구 옆</td>\n",
       "      <td>정기권</td>\n",
       "      <td>M</td>\n",
       "      <td>기타</td>\n",
       "      <td>1</td>\n",
       "      <td>18.30</td>\n",
       "      <td>0.18</td>\n",
       "      <td>770.00</td>\n",
       "      <td>6</td>\n",
       "    </tr>\n",
       "  </tbody>\n",
       "</table>\n",
       "<p>36160487 rows × 12 columns</p>\n",
       "</div>"
      ],
      "text/plain": [
       "               대여일자  대여시간  대여소번호                         대여소명 대여구분코드   성별  \\\n",
       "0        2022-09-01     0   1665                1665. 양지근린공원앞    정기권  NaN   \n",
       "1        2022-09-01     0   1669               1669. 중계역 3번출구    정기권  NaN   \n",
       "2        2022-09-01     0   1165               1165. 마곡중학교 후문    정기권  NaN   \n",
       "3        2022-09-01     0    764                764. 목동청소년수련관    정기권  NaN   \n",
       "4        2022-09-01     0   3533       3533. 건대입구역 사거리(롯데백화점)    정기권  NaN   \n",
       "...             ...   ...    ...                          ...    ...  ...   \n",
       "1271371  2022-02-28    23   1019  1019. 다성이즈빌아파트(호원대 대각선 맞은편)    정기권    M   \n",
       "1271372  2022-02-28    23    226              226. 샛강역 1번출구 앞    정기권    M   \n",
       "1271373  2022-02-28    23   2145              2145. 은천초등학교 육교    정기권    M   \n",
       "1271374  2022-02-28    23   1509              1509. 서울북부수도사업소    정기권    M   \n",
       "1271375  2022-02-28    23    417             417. DMC역 2번출구 옆    정기권    M   \n",
       "\n",
       "        연령대코드  이용건수    운동량   탄소량  이동거리(M)  이용시간(분)  \n",
       "0        ~10대     1  18.79  0.17   730.00        3  \n",
       "1        ~10대     1  36.41  0.40  1735.03       11  \n",
       "2        ~10대     1   0.00  0.00     0.00        1  \n",
       "3        ~10대     1  27.95  0.22   941.14        6  \n",
       "4        ~10대     1  61.05  0.55  2371.67       20  \n",
       "...       ...   ...    ...   ...      ...      ...  \n",
       "1271371    기타     1  39.46  0.29  1245.50        7  \n",
       "1271372    기타     1  32.30  0.29  1254.67       14  \n",
       "1271373    기타     1   0.00  0.00     0.00        9  \n",
       "1271374    기타     1   0.00  0.00     0.00        4  \n",
       "1271375    기타     1  18.30  0.18   770.00        6  \n",
       "\n",
       "[36160487 rows x 12 columns]"
      ]
     },
     "execution_count": 8,
     "metadata": {},
     "output_type": "execute_result"
    }
   ],
   "source": [
    "data"
   ]
  },
  {
   "cell_type": "markdown",
   "id": "b9cc2122",
   "metadata": {},
   "source": [
    "-> 36,160,487 데이터 (2022년 공공자전거 이용건수)"
   ]
  },
  {
   "cell_type": "code",
   "execution_count": 9,
   "id": "b2baad3a",
   "metadata": {},
   "outputs": [],
   "source": [
    "df = data.copy()"
   ]
  },
  {
   "cell_type": "markdown",
   "id": "469063ef",
   "metadata": {},
   "source": [
    "# Preprocessing"
   ]
  },
  {
   "cell_type": "markdown",
   "id": "b5b00b0c",
   "metadata": {},
   "source": [
    "날짜 데이터 datetime 형식으로 설정 후 요일 컬럼 생성"
   ]
  },
  {
   "cell_type": "code",
   "execution_count": 10,
   "id": "d7282a45",
   "metadata": {},
   "outputs": [],
   "source": [
    "df['대여일자'] = pd.to_datetime(df['대여일자'], format='%Y-%m-%d')\n",
    "df['요일'] = df['대여일자'].dt.day_name()"
   ]
  },
  {
   "cell_type": "code",
   "execution_count": 11,
   "id": "d5aaa899",
   "metadata": {},
   "outputs": [],
   "source": [
    "df = df.sort_values(by='대여일자' ,ascending=True)"
   ]
  },
  {
   "cell_type": "markdown",
   "id": "1d755be9",
   "metadata": {},
   "source": [
    "## 이상 데이터 (0인 데이터) 제거"
   ]
  },
  {
   "cell_type": "code",
   "execution_count": 12,
   "id": "6f002b19",
   "metadata": {
    "scrolled": true
   },
   "outputs": [
    {
     "name": "stdout",
     "output_type": "stream",
     "text": [
      "이동거리가 0이거나 이용시간이 0인 데이터: 1423513\n",
      "이동거리가 0인 데이터: 1415214\n",
      "이용시간이 0인 데이터: 17416\n"
     ]
    }
   ],
   "source": [
    "print('이동거리가 0이거나 이용시간이 0인 데이터:', len(df[(df['이동거리(M)']==0) | (df['이용시간(분)']==0)]))\n",
    "print('이동거리가 0인 데이터:', len(df[df['이동거리(M)']==0]))\n",
    "print('이용시간이 0인 데이터:', len(df[df['이용시간(분)']==0]))"
   ]
  },
  {
   "cell_type": "markdown",
   "id": "02f84562",
   "metadata": {},
   "source": [
    "이동거리가 0이거나 이용시간이 0인 데이터 1,423,513개 제거"
   ]
  },
  {
   "cell_type": "code",
   "execution_count": 13,
   "id": "0711bda1",
   "metadata": {},
   "outputs": [
    {
     "data": {
      "text/html": [
       "<div>\n",
       "<style scoped>\n",
       "    .dataframe tbody tr th:only-of-type {\n",
       "        vertical-align: middle;\n",
       "    }\n",
       "\n",
       "    .dataframe tbody tr th {\n",
       "        vertical-align: top;\n",
       "    }\n",
       "\n",
       "    .dataframe thead th {\n",
       "        text-align: right;\n",
       "    }\n",
       "</style>\n",
       "<table border=\"1\" class=\"dataframe\">\n",
       "  <thead>\n",
       "    <tr style=\"text-align: right;\">\n",
       "      <th></th>\n",
       "      <th>대여일자</th>\n",
       "      <th>대여시간</th>\n",
       "      <th>대여소번호</th>\n",
       "      <th>대여소명</th>\n",
       "      <th>대여구분코드</th>\n",
       "      <th>성별</th>\n",
       "      <th>연령대코드</th>\n",
       "      <th>이용건수</th>\n",
       "      <th>운동량</th>\n",
       "      <th>탄소량</th>\n",
       "      <th>이동거리(M)</th>\n",
       "      <th>이용시간(분)</th>\n",
       "      <th>요일</th>\n",
       "    </tr>\n",
       "  </thead>\n",
       "  <tbody>\n",
       "    <tr>\n",
       "      <th>0</th>\n",
       "      <td>2022-01-01</td>\n",
       "      <td>18</td>\n",
       "      <td>1955</td>\n",
       "      <td>1955. 디지털입구 교차로</td>\n",
       "      <td>일일권</td>\n",
       "      <td>M</td>\n",
       "      <td>20대</td>\n",
       "      <td>1</td>\n",
       "      <td>0.00</td>\n",
       "      <td>0.00</td>\n",
       "      <td>0.00</td>\n",
       "      <td>10</td>\n",
       "      <td>Saturday</td>\n",
       "    </tr>\n",
       "    <tr>\n",
       "      <th>1</th>\n",
       "      <td>2022-01-01</td>\n",
       "      <td>17</td>\n",
       "      <td>1113</td>\n",
       "      <td>1113. 서남환경공원 버스정류장</td>\n",
       "      <td>정기권</td>\n",
       "      <td>M</td>\n",
       "      <td>기타</td>\n",
       "      <td>1</td>\n",
       "      <td>72.34</td>\n",
       "      <td>0.65</td>\n",
       "      <td>2810.35</td>\n",
       "      <td>20</td>\n",
       "      <td>Saturday</td>\n",
       "    </tr>\n",
       "    <tr>\n",
       "      <th>2</th>\n",
       "      <td>2022-01-01</td>\n",
       "      <td>17</td>\n",
       "      <td>1020</td>\n",
       "      <td>1020. 강동경찰서</td>\n",
       "      <td>정기권</td>\n",
       "      <td>M</td>\n",
       "      <td>기타</td>\n",
       "      <td>1</td>\n",
       "      <td>30.85</td>\n",
       "      <td>0.19</td>\n",
       "      <td>820.00</td>\n",
       "      <td>6</td>\n",
       "      <td>Saturday</td>\n",
       "    </tr>\n",
       "    <tr>\n",
       "      <th>3</th>\n",
       "      <td>2022-01-01</td>\n",
       "      <td>17</td>\n",
       "      <td>816</td>\n",
       "      <td>816. 신용산역 6번출구 앞</td>\n",
       "      <td>정기권</td>\n",
       "      <td>M</td>\n",
       "      <td>기타</td>\n",
       "      <td>1</td>\n",
       "      <td>124.13</td>\n",
       "      <td>1.12</td>\n",
       "      <td>4822.50</td>\n",
       "      <td>29</td>\n",
       "      <td>Saturday</td>\n",
       "    </tr>\n",
       "    <tr>\n",
       "      <th>4</th>\n",
       "      <td>2022-01-01</td>\n",
       "      <td>17</td>\n",
       "      <td>262</td>\n",
       "      <td>262. 영문초등학교 사거리</td>\n",
       "      <td>정기권</td>\n",
       "      <td>M</td>\n",
       "      <td>기타</td>\n",
       "      <td>1</td>\n",
       "      <td>240.93</td>\n",
       "      <td>2.17</td>\n",
       "      <td>9360.00</td>\n",
       "      <td>50</td>\n",
       "      <td>Saturday</td>\n",
       "    </tr>\n",
       "    <tr>\n",
       "      <th>...</th>\n",
       "      <td>...</td>\n",
       "      <td>...</td>\n",
       "      <td>...</td>\n",
       "      <td>...</td>\n",
       "      <td>...</td>\n",
       "      <td>...</td>\n",
       "      <td>...</td>\n",
       "      <td>...</td>\n",
       "      <td>...</td>\n",
       "      <td>...</td>\n",
       "      <td>...</td>\n",
       "      <td>...</td>\n",
       "      <td>...</td>\n",
       "    </tr>\n",
       "    <tr>\n",
       "      <th>36151365</th>\n",
       "      <td>2022-12-31</td>\n",
       "      <td>12</td>\n",
       "      <td>1767</td>\n",
       "      <td>1767.방학초등학교 앞</td>\n",
       "      <td>정기권</td>\n",
       "      <td>NaN</td>\n",
       "      <td>30대</td>\n",
       "      <td>1</td>\n",
       "      <td>38.59</td>\n",
       "      <td>0.39</td>\n",
       "      <td>1680.00</td>\n",
       "      <td>13</td>\n",
       "      <td>Saturday</td>\n",
       "    </tr>\n",
       "    <tr>\n",
       "      <th>36151366</th>\n",
       "      <td>2022-12-31</td>\n",
       "      <td>12</td>\n",
       "      <td>1554</td>\n",
       "      <td>1554.번동사거리</td>\n",
       "      <td>정기권</td>\n",
       "      <td>NaN</td>\n",
       "      <td>30대</td>\n",
       "      <td>1</td>\n",
       "      <td>28.16</td>\n",
       "      <td>0.20</td>\n",
       "      <td>846.55</td>\n",
       "      <td>4</td>\n",
       "      <td>Saturday</td>\n",
       "    </tr>\n",
       "    <tr>\n",
       "      <th>36151367</th>\n",
       "      <td>2022-12-31</td>\n",
       "      <td>12</td>\n",
       "      <td>497</td>\n",
       "      <td>497.합정동주민센터 앞</td>\n",
       "      <td>정기권</td>\n",
       "      <td>NaN</td>\n",
       "      <td>30대</td>\n",
       "      <td>1</td>\n",
       "      <td>26.64</td>\n",
       "      <td>0.24</td>\n",
       "      <td>1035.15</td>\n",
       "      <td>11</td>\n",
       "      <td>Saturday</td>\n",
       "    </tr>\n",
       "    <tr>\n",
       "      <th>36151368</th>\n",
       "      <td>2022-12-31</td>\n",
       "      <td>12</td>\n",
       "      <td>2739</td>\n",
       "      <td>2739.수명산파크1단지교차로</td>\n",
       "      <td>정기권</td>\n",
       "      <td>NaN</td>\n",
       "      <td>30대</td>\n",
       "      <td>1</td>\n",
       "      <td>35.27</td>\n",
       "      <td>0.34</td>\n",
       "      <td>1460.00</td>\n",
       "      <td>10</td>\n",
       "      <td>Saturday</td>\n",
       "    </tr>\n",
       "    <tr>\n",
       "      <th>36151369</th>\n",
       "      <td>2022-12-31</td>\n",
       "      <td>18</td>\n",
       "      <td>3786</td>\n",
       "      <td>3786. 강서힐스테이트 상가 앞</td>\n",
       "      <td>정기권</td>\n",
       "      <td>NaN</td>\n",
       "      <td>~10대</td>\n",
       "      <td>1</td>\n",
       "      <td>117.01</td>\n",
       "      <td>0.79</td>\n",
       "      <td>3396.39</td>\n",
       "      <td>18</td>\n",
       "      <td>Saturday</td>\n",
       "    </tr>\n",
       "  </tbody>\n",
       "</table>\n",
       "<p>36151370 rows × 13 columns</p>\n",
       "</div>"
      ],
      "text/plain": [
       "               대여일자  대여시간  대여소번호                대여소명 대여구분코드   성별 연령대코드  이용건수  \\\n",
       "0        2022-01-01    18   1955     1955. 디지털입구 교차로    일일권    M   20대     1   \n",
       "1        2022-01-01    17   1113  1113. 서남환경공원 버스정류장    정기권    M    기타     1   \n",
       "2        2022-01-01    17   1020         1020. 강동경찰서    정기권    M    기타     1   \n",
       "3        2022-01-01    17    816    816. 신용산역 6번출구 앞    정기권    M    기타     1   \n",
       "4        2022-01-01    17    262     262. 영문초등학교 사거리    정기권    M    기타     1   \n",
       "...             ...   ...    ...                 ...    ...  ...   ...   ...   \n",
       "36151365 2022-12-31    12   1767       1767.방학초등학교 앞    정기권  NaN   30대     1   \n",
       "36151366 2022-12-31    12   1554          1554.번동사거리    정기권  NaN   30대     1   \n",
       "36151367 2022-12-31    12    497       497.합정동주민센터 앞    정기권  NaN   30대     1   \n",
       "36151368 2022-12-31    12   2739    2739.수명산파크1단지교차로    정기권  NaN   30대     1   \n",
       "36151369 2022-12-31    18   3786  3786. 강서힐스테이트 상가 앞    정기권  NaN  ~10대     1   \n",
       "\n",
       "             운동량   탄소량  이동거리(M)  이용시간(분)        요일  \n",
       "0           0.00  0.00     0.00       10  Saturday  \n",
       "1          72.34  0.65  2810.35       20  Saturday  \n",
       "2          30.85  0.19   820.00        6  Saturday  \n",
       "3         124.13  1.12  4822.50       29  Saturday  \n",
       "4         240.93  2.17  9360.00       50  Saturday  \n",
       "...          ...   ...      ...      ...       ...  \n",
       "36151365   38.59  0.39  1680.00       13  Saturday  \n",
       "36151366   28.16  0.20   846.55        4  Saturday  \n",
       "36151367   26.64  0.24  1035.15       11  Saturday  \n",
       "36151368   35.27  0.34  1460.00       10  Saturday  \n",
       "36151369  117.01  0.79  3396.39       18  Saturday  \n",
       "\n",
       "[36151370 rows x 13 columns]"
      ]
     },
     "execution_count": 13,
     "metadata": {},
     "output_type": "execute_result"
    }
   ],
   "source": [
    "df = df[(df['이동거리(M)']!=0) | (df['이용시간(분)']!=0)]\n",
    "df.reset_index(inplace=True)\n",
    "df = df.drop('index', axis=1)\n",
    "\n",
    "df"
   ]
  },
  {
   "cell_type": "code",
   "execution_count": 14,
   "id": "9665bf75",
   "metadata": {},
   "outputs": [],
   "source": [
    "df.replace('\\\\N', np.nan, inplace=True)"
   ]
  },
  {
   "cell_type": "code",
   "execution_count": 15,
   "id": "b066ea75",
   "metadata": {},
   "outputs": [
    {
     "data": {
      "text/plain": [
       "대여일자              0\n",
       "대여시간              0\n",
       "대여소번호             0\n",
       "대여소명              0\n",
       "대여구분코드            0\n",
       "성별         12311774\n",
       "연령대코드             0\n",
       "이용건수              0\n",
       "운동량          137392\n",
       "탄소량          137392\n",
       "이동거리(M)           0\n",
       "이용시간(분)           0\n",
       "요일                0\n",
       "dtype: int64"
      ]
     },
     "execution_count": 15,
     "metadata": {},
     "output_type": "execute_result"
    }
   ],
   "source": [
    "df.isnull().sum()"
   ]
  },
  {
   "cell_type": "markdown",
   "id": "47a425e5",
   "metadata": {},
   "source": [
    "-> 탄소량이 결측치인 데이터 제거"
   ]
  },
  {
   "cell_type": "code",
   "execution_count": 16,
   "id": "f768a69f",
   "metadata": {},
   "outputs": [],
   "source": [
    "df['탄소량'] = df['탄소량'].astype('float')\n",
    "df = df.dropna(subset=['탄소량'])"
   ]
  },
  {
   "cell_type": "markdown",
   "id": "36faefdb",
   "metadata": {},
   "source": [
    "'대여구분코드'가 '단체권'일 경우 탄소량이나 다른 데이터에 영향을 줄 수 있기 때문에 제거 (191,496개 데이터 제거)"
   ]
  },
  {
   "cell_type": "code",
   "execution_count": 17,
   "id": "e4be5e46",
   "metadata": {},
   "outputs": [],
   "source": [
    "df = df[df['대여구분코드']!='단체권']"
   ]
  },
  {
   "cell_type": "code",
   "execution_count": 18,
   "id": "96a5f829",
   "metadata": {},
   "outputs": [
    {
     "data": {
      "text/html": [
       "<div>\n",
       "<style scoped>\n",
       "    .dataframe tbody tr th:only-of-type {\n",
       "        vertical-align: middle;\n",
       "    }\n",
       "\n",
       "    .dataframe tbody tr th {\n",
       "        vertical-align: top;\n",
       "    }\n",
       "\n",
       "    .dataframe thead th {\n",
       "        text-align: right;\n",
       "    }\n",
       "</style>\n",
       "<table border=\"1\" class=\"dataframe\">\n",
       "  <thead>\n",
       "    <tr style=\"text-align: right;\">\n",
       "      <th></th>\n",
       "      <th>대여일자</th>\n",
       "      <th>대여시간</th>\n",
       "      <th>대여소번호</th>\n",
       "      <th>대여소명</th>\n",
       "      <th>대여구분코드</th>\n",
       "      <th>성별</th>\n",
       "      <th>연령대코드</th>\n",
       "      <th>이용건수</th>\n",
       "      <th>운동량</th>\n",
       "      <th>탄소량</th>\n",
       "      <th>이동거리(M)</th>\n",
       "      <th>이용시간(분)</th>\n",
       "      <th>요일</th>\n",
       "    </tr>\n",
       "  </thead>\n",
       "  <tbody>\n",
       "    <tr>\n",
       "      <th>0</th>\n",
       "      <td>2022-01-01</td>\n",
       "      <td>18</td>\n",
       "      <td>1955</td>\n",
       "      <td>1955. 디지털입구 교차로</td>\n",
       "      <td>일일권</td>\n",
       "      <td>M</td>\n",
       "      <td>20대</td>\n",
       "      <td>1</td>\n",
       "      <td>0.00</td>\n",
       "      <td>0.00</td>\n",
       "      <td>0.00</td>\n",
       "      <td>10</td>\n",
       "      <td>Saturday</td>\n",
       "    </tr>\n",
       "    <tr>\n",
       "      <th>1</th>\n",
       "      <td>2022-01-01</td>\n",
       "      <td>17</td>\n",
       "      <td>1113</td>\n",
       "      <td>1113. 서남환경공원 버스정류장</td>\n",
       "      <td>정기권</td>\n",
       "      <td>M</td>\n",
       "      <td>기타</td>\n",
       "      <td>1</td>\n",
       "      <td>72.34</td>\n",
       "      <td>0.65</td>\n",
       "      <td>2810.35</td>\n",
       "      <td>20</td>\n",
       "      <td>Saturday</td>\n",
       "    </tr>\n",
       "    <tr>\n",
       "      <th>2</th>\n",
       "      <td>2022-01-01</td>\n",
       "      <td>17</td>\n",
       "      <td>1020</td>\n",
       "      <td>1020. 강동경찰서</td>\n",
       "      <td>정기권</td>\n",
       "      <td>M</td>\n",
       "      <td>기타</td>\n",
       "      <td>1</td>\n",
       "      <td>30.85</td>\n",
       "      <td>0.19</td>\n",
       "      <td>820.00</td>\n",
       "      <td>6</td>\n",
       "      <td>Saturday</td>\n",
       "    </tr>\n",
       "    <tr>\n",
       "      <th>3</th>\n",
       "      <td>2022-01-01</td>\n",
       "      <td>17</td>\n",
       "      <td>816</td>\n",
       "      <td>816. 신용산역 6번출구 앞</td>\n",
       "      <td>정기권</td>\n",
       "      <td>M</td>\n",
       "      <td>기타</td>\n",
       "      <td>1</td>\n",
       "      <td>124.13</td>\n",
       "      <td>1.12</td>\n",
       "      <td>4822.50</td>\n",
       "      <td>29</td>\n",
       "      <td>Saturday</td>\n",
       "    </tr>\n",
       "    <tr>\n",
       "      <th>4</th>\n",
       "      <td>2022-01-01</td>\n",
       "      <td>17</td>\n",
       "      <td>262</td>\n",
       "      <td>262. 영문초등학교 사거리</td>\n",
       "      <td>정기권</td>\n",
       "      <td>M</td>\n",
       "      <td>기타</td>\n",
       "      <td>1</td>\n",
       "      <td>240.93</td>\n",
       "      <td>2.17</td>\n",
       "      <td>9360.00</td>\n",
       "      <td>50</td>\n",
       "      <td>Saturday</td>\n",
       "    </tr>\n",
       "    <tr>\n",
       "      <th>...</th>\n",
       "      <td>...</td>\n",
       "      <td>...</td>\n",
       "      <td>...</td>\n",
       "      <td>...</td>\n",
       "      <td>...</td>\n",
       "      <td>...</td>\n",
       "      <td>...</td>\n",
       "      <td>...</td>\n",
       "      <td>...</td>\n",
       "      <td>...</td>\n",
       "      <td>...</td>\n",
       "      <td>...</td>\n",
       "      <td>...</td>\n",
       "    </tr>\n",
       "    <tr>\n",
       "      <th>36151365</th>\n",
       "      <td>2022-12-31</td>\n",
       "      <td>12</td>\n",
       "      <td>1767</td>\n",
       "      <td>1767.방학초등학교 앞</td>\n",
       "      <td>정기권</td>\n",
       "      <td>NaN</td>\n",
       "      <td>30대</td>\n",
       "      <td>1</td>\n",
       "      <td>38.59</td>\n",
       "      <td>0.39</td>\n",
       "      <td>1680.00</td>\n",
       "      <td>13</td>\n",
       "      <td>Saturday</td>\n",
       "    </tr>\n",
       "    <tr>\n",
       "      <th>36151366</th>\n",
       "      <td>2022-12-31</td>\n",
       "      <td>12</td>\n",
       "      <td>1554</td>\n",
       "      <td>1554.번동사거리</td>\n",
       "      <td>정기권</td>\n",
       "      <td>NaN</td>\n",
       "      <td>30대</td>\n",
       "      <td>1</td>\n",
       "      <td>28.16</td>\n",
       "      <td>0.20</td>\n",
       "      <td>846.55</td>\n",
       "      <td>4</td>\n",
       "      <td>Saturday</td>\n",
       "    </tr>\n",
       "    <tr>\n",
       "      <th>36151367</th>\n",
       "      <td>2022-12-31</td>\n",
       "      <td>12</td>\n",
       "      <td>497</td>\n",
       "      <td>497.합정동주민센터 앞</td>\n",
       "      <td>정기권</td>\n",
       "      <td>NaN</td>\n",
       "      <td>30대</td>\n",
       "      <td>1</td>\n",
       "      <td>26.64</td>\n",
       "      <td>0.24</td>\n",
       "      <td>1035.15</td>\n",
       "      <td>11</td>\n",
       "      <td>Saturday</td>\n",
       "    </tr>\n",
       "    <tr>\n",
       "      <th>36151368</th>\n",
       "      <td>2022-12-31</td>\n",
       "      <td>12</td>\n",
       "      <td>2739</td>\n",
       "      <td>2739.수명산파크1단지교차로</td>\n",
       "      <td>정기권</td>\n",
       "      <td>NaN</td>\n",
       "      <td>30대</td>\n",
       "      <td>1</td>\n",
       "      <td>35.27</td>\n",
       "      <td>0.34</td>\n",
       "      <td>1460.00</td>\n",
       "      <td>10</td>\n",
       "      <td>Saturday</td>\n",
       "    </tr>\n",
       "    <tr>\n",
       "      <th>36151369</th>\n",
       "      <td>2022-12-31</td>\n",
       "      <td>18</td>\n",
       "      <td>3786</td>\n",
       "      <td>3786. 강서힐스테이트 상가 앞</td>\n",
       "      <td>정기권</td>\n",
       "      <td>NaN</td>\n",
       "      <td>~10대</td>\n",
       "      <td>1</td>\n",
       "      <td>117.01</td>\n",
       "      <td>0.79</td>\n",
       "      <td>3396.39</td>\n",
       "      <td>18</td>\n",
       "      <td>Saturday</td>\n",
       "    </tr>\n",
       "  </tbody>\n",
       "</table>\n",
       "<p>35822482 rows × 13 columns</p>\n",
       "</div>"
      ],
      "text/plain": [
       "               대여일자  대여시간  대여소번호                대여소명 대여구분코드   성별 연령대코드  이용건수  \\\n",
       "0        2022-01-01    18   1955     1955. 디지털입구 교차로    일일권    M   20대     1   \n",
       "1        2022-01-01    17   1113  1113. 서남환경공원 버스정류장    정기권    M    기타     1   \n",
       "2        2022-01-01    17   1020         1020. 강동경찰서    정기권    M    기타     1   \n",
       "3        2022-01-01    17    816    816. 신용산역 6번출구 앞    정기권    M    기타     1   \n",
       "4        2022-01-01    17    262     262. 영문초등학교 사거리    정기권    M    기타     1   \n",
       "...             ...   ...    ...                 ...    ...  ...   ...   ...   \n",
       "36151365 2022-12-31    12   1767       1767.방학초등학교 앞    정기권  NaN   30대     1   \n",
       "36151366 2022-12-31    12   1554          1554.번동사거리    정기권  NaN   30대     1   \n",
       "36151367 2022-12-31    12    497       497.합정동주민센터 앞    정기권  NaN   30대     1   \n",
       "36151368 2022-12-31    12   2739    2739.수명산파크1단지교차로    정기권  NaN   30대     1   \n",
       "36151369 2022-12-31    18   3786  3786. 강서힐스테이트 상가 앞    정기권  NaN  ~10대     1   \n",
       "\n",
       "             운동량   탄소량  이동거리(M)  이용시간(분)        요일  \n",
       "0           0.00  0.00     0.00       10  Saturday  \n",
       "1          72.34  0.65  2810.35       20  Saturday  \n",
       "2          30.85  0.19   820.00        6  Saturday  \n",
       "3         124.13  1.12  4822.50       29  Saturday  \n",
       "4         240.93  2.17  9360.00       50  Saturday  \n",
       "...          ...   ...      ...      ...       ...  \n",
       "36151365   38.59  0.39  1680.00       13  Saturday  \n",
       "36151366   28.16  0.20   846.55        4  Saturday  \n",
       "36151367   26.64  0.24  1035.15       11  Saturday  \n",
       "36151368   35.27  0.34  1460.00       10  Saturday  \n",
       "36151369  117.01  0.79  3396.39       18  Saturday  \n",
       "\n",
       "[35822482 rows x 13 columns]"
      ]
     },
     "execution_count": 18,
     "metadata": {},
     "output_type": "execute_result"
    }
   ],
   "source": [
    "df"
   ]
  },
  {
   "cell_type": "markdown",
   "id": "370ba53c",
   "metadata": {},
   "source": [
    "필요없는 컬럼 제거"
   ]
  },
  {
   "cell_type": "code",
   "execution_count": 19,
   "id": "3d9ec73d",
   "metadata": {},
   "outputs": [
    {
     "data": {
      "text/html": [
       "<div>\n",
       "<style scoped>\n",
       "    .dataframe tbody tr th:only-of-type {\n",
       "        vertical-align: middle;\n",
       "    }\n",
       "\n",
       "    .dataframe tbody tr th {\n",
       "        vertical-align: top;\n",
       "    }\n",
       "\n",
       "    .dataframe thead th {\n",
       "        text-align: right;\n",
       "    }\n",
       "</style>\n",
       "<table border=\"1\" class=\"dataframe\">\n",
       "  <thead>\n",
       "    <tr style=\"text-align: right;\">\n",
       "      <th></th>\n",
       "      <th>대여일자</th>\n",
       "      <th>대여시간</th>\n",
       "      <th>대여구분코드</th>\n",
       "      <th>탄소량</th>\n",
       "      <th>이동거리(M)</th>\n",
       "      <th>이용시간(분)</th>\n",
       "      <th>요일</th>\n",
       "    </tr>\n",
       "  </thead>\n",
       "  <tbody>\n",
       "    <tr>\n",
       "      <th>0</th>\n",
       "      <td>2022-01-01</td>\n",
       "      <td>18</td>\n",
       "      <td>일일권</td>\n",
       "      <td>0.00</td>\n",
       "      <td>0.00</td>\n",
       "      <td>10</td>\n",
       "      <td>Saturday</td>\n",
       "    </tr>\n",
       "    <tr>\n",
       "      <th>1</th>\n",
       "      <td>2022-01-01</td>\n",
       "      <td>17</td>\n",
       "      <td>정기권</td>\n",
       "      <td>0.65</td>\n",
       "      <td>2810.35</td>\n",
       "      <td>20</td>\n",
       "      <td>Saturday</td>\n",
       "    </tr>\n",
       "    <tr>\n",
       "      <th>2</th>\n",
       "      <td>2022-01-01</td>\n",
       "      <td>17</td>\n",
       "      <td>정기권</td>\n",
       "      <td>0.19</td>\n",
       "      <td>820.00</td>\n",
       "      <td>6</td>\n",
       "      <td>Saturday</td>\n",
       "    </tr>\n",
       "    <tr>\n",
       "      <th>3</th>\n",
       "      <td>2022-01-01</td>\n",
       "      <td>17</td>\n",
       "      <td>정기권</td>\n",
       "      <td>1.12</td>\n",
       "      <td>4822.50</td>\n",
       "      <td>29</td>\n",
       "      <td>Saturday</td>\n",
       "    </tr>\n",
       "    <tr>\n",
       "      <th>4</th>\n",
       "      <td>2022-01-01</td>\n",
       "      <td>17</td>\n",
       "      <td>정기권</td>\n",
       "      <td>2.17</td>\n",
       "      <td>9360.00</td>\n",
       "      <td>50</td>\n",
       "      <td>Saturday</td>\n",
       "    </tr>\n",
       "    <tr>\n",
       "      <th>...</th>\n",
       "      <td>...</td>\n",
       "      <td>...</td>\n",
       "      <td>...</td>\n",
       "      <td>...</td>\n",
       "      <td>...</td>\n",
       "      <td>...</td>\n",
       "      <td>...</td>\n",
       "    </tr>\n",
       "    <tr>\n",
       "      <th>35822477</th>\n",
       "      <td>2022-12-31</td>\n",
       "      <td>12</td>\n",
       "      <td>정기권</td>\n",
       "      <td>0.39</td>\n",
       "      <td>1680.00</td>\n",
       "      <td>13</td>\n",
       "      <td>Saturday</td>\n",
       "    </tr>\n",
       "    <tr>\n",
       "      <th>35822478</th>\n",
       "      <td>2022-12-31</td>\n",
       "      <td>12</td>\n",
       "      <td>정기권</td>\n",
       "      <td>0.20</td>\n",
       "      <td>846.55</td>\n",
       "      <td>4</td>\n",
       "      <td>Saturday</td>\n",
       "    </tr>\n",
       "    <tr>\n",
       "      <th>35822479</th>\n",
       "      <td>2022-12-31</td>\n",
       "      <td>12</td>\n",
       "      <td>정기권</td>\n",
       "      <td>0.24</td>\n",
       "      <td>1035.15</td>\n",
       "      <td>11</td>\n",
       "      <td>Saturday</td>\n",
       "    </tr>\n",
       "    <tr>\n",
       "      <th>35822480</th>\n",
       "      <td>2022-12-31</td>\n",
       "      <td>12</td>\n",
       "      <td>정기권</td>\n",
       "      <td>0.34</td>\n",
       "      <td>1460.00</td>\n",
       "      <td>10</td>\n",
       "      <td>Saturday</td>\n",
       "    </tr>\n",
       "    <tr>\n",
       "      <th>35822481</th>\n",
       "      <td>2022-12-31</td>\n",
       "      <td>18</td>\n",
       "      <td>정기권</td>\n",
       "      <td>0.79</td>\n",
       "      <td>3396.39</td>\n",
       "      <td>18</td>\n",
       "      <td>Saturday</td>\n",
       "    </tr>\n",
       "  </tbody>\n",
       "</table>\n",
       "<p>35822482 rows × 7 columns</p>\n",
       "</div>"
      ],
      "text/plain": [
       "               대여일자  대여시간 대여구분코드   탄소량  이동거리(M)  이용시간(분)        요일\n",
       "0        2022-01-01    18    일일권  0.00     0.00       10  Saturday\n",
       "1        2022-01-01    17    정기권  0.65  2810.35       20  Saturday\n",
       "2        2022-01-01    17    정기권  0.19   820.00        6  Saturday\n",
       "3        2022-01-01    17    정기권  1.12  4822.50       29  Saturday\n",
       "4        2022-01-01    17    정기권  2.17  9360.00       50  Saturday\n",
       "...             ...   ...    ...   ...      ...      ...       ...\n",
       "35822477 2022-12-31    12    정기권  0.39  1680.00       13  Saturday\n",
       "35822478 2022-12-31    12    정기권  0.20   846.55        4  Saturday\n",
       "35822479 2022-12-31    12    정기권  0.24  1035.15       11  Saturday\n",
       "35822480 2022-12-31    12    정기권  0.34  1460.00       10  Saturday\n",
       "35822481 2022-12-31    18    정기권  0.79  3396.39       18  Saturday\n",
       "\n",
       "[35822482 rows x 7 columns]"
      ]
     },
     "execution_count": 19,
     "metadata": {},
     "output_type": "execute_result"
    }
   ],
   "source": [
    "df = df.drop(['대여소번호', '대여소명', '성별', '연령대코드', '이용건수', '운동량'], axis=1)\n",
    "df.reset_index(inplace=True)\n",
    "df = df.drop('index', axis=1)\n",
    "df"
   ]
  },
  {
   "cell_type": "code",
   "execution_count": 20,
   "id": "8daaaccc",
   "metadata": {},
   "outputs": [],
   "source": [
    "df.rename(columns={'대여일자':'Date', '대여시간':'Rental Time', '대여구분코드': 'Rental Code', '탄소량':'Carbon(g)', '이동거리(M)':'Distance(m)', '이용시간(분)':'Using Time(M)', '요일':'Day'}, inplace=True)"
   ]
  },
  {
   "cell_type": "code",
   "execution_count": 21,
   "id": "d6567cf7",
   "metadata": {},
   "outputs": [
    {
     "data": {
      "text/html": [
       "<div>\n",
       "<style scoped>\n",
       "    .dataframe tbody tr th:only-of-type {\n",
       "        vertical-align: middle;\n",
       "    }\n",
       "\n",
       "    .dataframe tbody tr th {\n",
       "        vertical-align: top;\n",
       "    }\n",
       "\n",
       "    .dataframe thead th {\n",
       "        text-align: right;\n",
       "    }\n",
       "</style>\n",
       "<table border=\"1\" class=\"dataframe\">\n",
       "  <thead>\n",
       "    <tr style=\"text-align: right;\">\n",
       "      <th></th>\n",
       "      <th>Date</th>\n",
       "      <th>Day</th>\n",
       "      <th>Rental Time</th>\n",
       "      <th>Rental Code</th>\n",
       "      <th>Carbon(g)</th>\n",
       "      <th>Distance(m)</th>\n",
       "      <th>Using Time(M)</th>\n",
       "    </tr>\n",
       "  </thead>\n",
       "  <tbody>\n",
       "    <tr>\n",
       "      <th>0</th>\n",
       "      <td>2022-01-01</td>\n",
       "      <td>Saturday</td>\n",
       "      <td>18</td>\n",
       "      <td>일일권</td>\n",
       "      <td>0.00</td>\n",
       "      <td>0.00</td>\n",
       "      <td>10</td>\n",
       "    </tr>\n",
       "    <tr>\n",
       "      <th>1</th>\n",
       "      <td>2022-01-01</td>\n",
       "      <td>Saturday</td>\n",
       "      <td>17</td>\n",
       "      <td>정기권</td>\n",
       "      <td>0.65</td>\n",
       "      <td>2810.35</td>\n",
       "      <td>20</td>\n",
       "    </tr>\n",
       "    <tr>\n",
       "      <th>2</th>\n",
       "      <td>2022-01-01</td>\n",
       "      <td>Saturday</td>\n",
       "      <td>17</td>\n",
       "      <td>정기권</td>\n",
       "      <td>0.19</td>\n",
       "      <td>820.00</td>\n",
       "      <td>6</td>\n",
       "    </tr>\n",
       "    <tr>\n",
       "      <th>3</th>\n",
       "      <td>2022-01-01</td>\n",
       "      <td>Saturday</td>\n",
       "      <td>17</td>\n",
       "      <td>정기권</td>\n",
       "      <td>1.12</td>\n",
       "      <td>4822.50</td>\n",
       "      <td>29</td>\n",
       "    </tr>\n",
       "    <tr>\n",
       "      <th>4</th>\n",
       "      <td>2022-01-01</td>\n",
       "      <td>Saturday</td>\n",
       "      <td>17</td>\n",
       "      <td>정기권</td>\n",
       "      <td>2.17</td>\n",
       "      <td>9360.00</td>\n",
       "      <td>50</td>\n",
       "    </tr>\n",
       "    <tr>\n",
       "      <th>...</th>\n",
       "      <td>...</td>\n",
       "      <td>...</td>\n",
       "      <td>...</td>\n",
       "      <td>...</td>\n",
       "      <td>...</td>\n",
       "      <td>...</td>\n",
       "      <td>...</td>\n",
       "    </tr>\n",
       "    <tr>\n",
       "      <th>35822477</th>\n",
       "      <td>2022-12-31</td>\n",
       "      <td>Saturday</td>\n",
       "      <td>12</td>\n",
       "      <td>정기권</td>\n",
       "      <td>0.39</td>\n",
       "      <td>1680.00</td>\n",
       "      <td>13</td>\n",
       "    </tr>\n",
       "    <tr>\n",
       "      <th>35822478</th>\n",
       "      <td>2022-12-31</td>\n",
       "      <td>Saturday</td>\n",
       "      <td>12</td>\n",
       "      <td>정기권</td>\n",
       "      <td>0.20</td>\n",
       "      <td>846.55</td>\n",
       "      <td>4</td>\n",
       "    </tr>\n",
       "    <tr>\n",
       "      <th>35822479</th>\n",
       "      <td>2022-12-31</td>\n",
       "      <td>Saturday</td>\n",
       "      <td>12</td>\n",
       "      <td>정기권</td>\n",
       "      <td>0.24</td>\n",
       "      <td>1035.15</td>\n",
       "      <td>11</td>\n",
       "    </tr>\n",
       "    <tr>\n",
       "      <th>35822480</th>\n",
       "      <td>2022-12-31</td>\n",
       "      <td>Saturday</td>\n",
       "      <td>12</td>\n",
       "      <td>정기권</td>\n",
       "      <td>0.34</td>\n",
       "      <td>1460.00</td>\n",
       "      <td>10</td>\n",
       "    </tr>\n",
       "    <tr>\n",
       "      <th>35822481</th>\n",
       "      <td>2022-12-31</td>\n",
       "      <td>Saturday</td>\n",
       "      <td>18</td>\n",
       "      <td>정기권</td>\n",
       "      <td>0.79</td>\n",
       "      <td>3396.39</td>\n",
       "      <td>18</td>\n",
       "    </tr>\n",
       "  </tbody>\n",
       "</table>\n",
       "<p>35822482 rows × 7 columns</p>\n",
       "</div>"
      ],
      "text/plain": [
       "               Date       Day  Rental Time Rental Code  Carbon(g)  \\\n",
       "0        2022-01-01  Saturday           18         일일권       0.00   \n",
       "1        2022-01-01  Saturday           17         정기권       0.65   \n",
       "2        2022-01-01  Saturday           17         정기권       0.19   \n",
       "3        2022-01-01  Saturday           17         정기권       1.12   \n",
       "4        2022-01-01  Saturday           17         정기권       2.17   \n",
       "...             ...       ...          ...         ...        ...   \n",
       "35822477 2022-12-31  Saturday           12         정기권       0.39   \n",
       "35822478 2022-12-31  Saturday           12         정기권       0.20   \n",
       "35822479 2022-12-31  Saturday           12         정기권       0.24   \n",
       "35822480 2022-12-31  Saturday           12         정기권       0.34   \n",
       "35822481 2022-12-31  Saturday           18         정기권       0.79   \n",
       "\n",
       "          Distance(m)  Using Time(M)  \n",
       "0                0.00             10  \n",
       "1             2810.35             20  \n",
       "2              820.00              6  \n",
       "3             4822.50             29  \n",
       "4             9360.00             50  \n",
       "...               ...            ...  \n",
       "35822477      1680.00             13  \n",
       "35822478       846.55              4  \n",
       "35822479      1035.15             11  \n",
       "35822480      1460.00             10  \n",
       "35822481      3396.39             18  \n",
       "\n",
       "[35822482 rows x 7 columns]"
      ]
     },
     "execution_count": 21,
     "metadata": {},
     "output_type": "execute_result"
    }
   ],
   "source": [
    "df = df[['Date', 'Day', 'Rental Time', 'Rental Code', 'Carbon(g)', 'Distance(m)', 'Using Time(M)']]\n",
    "df"
   ]
  },
  {
   "cell_type": "markdown",
   "id": "20c6c3ba",
   "metadata": {},
   "source": [
    "Rental Code 값 영어로 변경"
   ]
  },
  {
   "cell_type": "code",
   "execution_count": 23,
   "id": "2ca7553a",
   "metadata": {
    "scrolled": true
   },
   "outputs": [
    {
     "data": {
      "text/plain": [
       "정기권         29039485\n",
       "일일권          6458607\n",
       "일일권(비회원)      324390\n",
       "Name: Rental Code, dtype: int64"
      ]
     },
     "execution_count": 23,
     "metadata": {},
     "output_type": "execute_result"
    }
   ],
   "source": [
    "df['Rental Code'].value_counts()"
   ]
  },
  {
   "cell_type": "code",
   "execution_count": 24,
   "id": "d8b2c756",
   "metadata": {},
   "outputs": [],
   "source": [
    "df['Rental Code'] = df['Rental Code'].replace('정기권', 'Monthly Pass')\n",
    "df['Rental Code'] = df['Rental Code'].replace('일일권', 'Daily Pass')\n",
    "df['Rental Code'] = df['Rental Code'].replace('일일권(비회원)', 'Daily Pass(Non-member)')"
   ]
  },
  {
   "cell_type": "code",
   "execution_count": 25,
   "id": "9d86e054",
   "metadata": {
    "scrolled": false
   },
   "outputs": [
    {
     "data": {
      "text/html": [
       "<div>\n",
       "<style scoped>\n",
       "    .dataframe tbody tr th:only-of-type {\n",
       "        vertical-align: middle;\n",
       "    }\n",
       "\n",
       "    .dataframe tbody tr th {\n",
       "        vertical-align: top;\n",
       "    }\n",
       "\n",
       "    .dataframe thead th {\n",
       "        text-align: right;\n",
       "    }\n",
       "</style>\n",
       "<table border=\"1\" class=\"dataframe\">\n",
       "  <thead>\n",
       "    <tr style=\"text-align: right;\">\n",
       "      <th></th>\n",
       "      <th>Date</th>\n",
       "      <th>Day</th>\n",
       "      <th>Rental Time</th>\n",
       "      <th>Rental Code</th>\n",
       "      <th>Carbon(g)</th>\n",
       "      <th>Distance(m)</th>\n",
       "      <th>Using Time(M)</th>\n",
       "    </tr>\n",
       "  </thead>\n",
       "  <tbody>\n",
       "    <tr>\n",
       "      <th>0</th>\n",
       "      <td>2022-01-01</td>\n",
       "      <td>Saturday</td>\n",
       "      <td>18</td>\n",
       "      <td>Daily Pass</td>\n",
       "      <td>0.00</td>\n",
       "      <td>0.00</td>\n",
       "      <td>10</td>\n",
       "    </tr>\n",
       "    <tr>\n",
       "      <th>1</th>\n",
       "      <td>2022-01-01</td>\n",
       "      <td>Saturday</td>\n",
       "      <td>17</td>\n",
       "      <td>Monthly Pass</td>\n",
       "      <td>0.65</td>\n",
       "      <td>2810.35</td>\n",
       "      <td>20</td>\n",
       "    </tr>\n",
       "    <tr>\n",
       "      <th>2</th>\n",
       "      <td>2022-01-01</td>\n",
       "      <td>Saturday</td>\n",
       "      <td>17</td>\n",
       "      <td>Monthly Pass</td>\n",
       "      <td>0.19</td>\n",
       "      <td>820.00</td>\n",
       "      <td>6</td>\n",
       "    </tr>\n",
       "    <tr>\n",
       "      <th>3</th>\n",
       "      <td>2022-01-01</td>\n",
       "      <td>Saturday</td>\n",
       "      <td>17</td>\n",
       "      <td>Monthly Pass</td>\n",
       "      <td>1.12</td>\n",
       "      <td>4822.50</td>\n",
       "      <td>29</td>\n",
       "    </tr>\n",
       "    <tr>\n",
       "      <th>4</th>\n",
       "      <td>2022-01-01</td>\n",
       "      <td>Saturday</td>\n",
       "      <td>17</td>\n",
       "      <td>Monthly Pass</td>\n",
       "      <td>2.17</td>\n",
       "      <td>9360.00</td>\n",
       "      <td>50</td>\n",
       "    </tr>\n",
       "    <tr>\n",
       "      <th>...</th>\n",
       "      <td>...</td>\n",
       "      <td>...</td>\n",
       "      <td>...</td>\n",
       "      <td>...</td>\n",
       "      <td>...</td>\n",
       "      <td>...</td>\n",
       "      <td>...</td>\n",
       "    </tr>\n",
       "    <tr>\n",
       "      <th>35822477</th>\n",
       "      <td>2022-12-31</td>\n",
       "      <td>Saturday</td>\n",
       "      <td>12</td>\n",
       "      <td>Monthly Pass</td>\n",
       "      <td>0.39</td>\n",
       "      <td>1680.00</td>\n",
       "      <td>13</td>\n",
       "    </tr>\n",
       "    <tr>\n",
       "      <th>35822478</th>\n",
       "      <td>2022-12-31</td>\n",
       "      <td>Saturday</td>\n",
       "      <td>12</td>\n",
       "      <td>Monthly Pass</td>\n",
       "      <td>0.20</td>\n",
       "      <td>846.55</td>\n",
       "      <td>4</td>\n",
       "    </tr>\n",
       "    <tr>\n",
       "      <th>35822479</th>\n",
       "      <td>2022-12-31</td>\n",
       "      <td>Saturday</td>\n",
       "      <td>12</td>\n",
       "      <td>Monthly Pass</td>\n",
       "      <td>0.24</td>\n",
       "      <td>1035.15</td>\n",
       "      <td>11</td>\n",
       "    </tr>\n",
       "    <tr>\n",
       "      <th>35822480</th>\n",
       "      <td>2022-12-31</td>\n",
       "      <td>Saturday</td>\n",
       "      <td>12</td>\n",
       "      <td>Monthly Pass</td>\n",
       "      <td>0.34</td>\n",
       "      <td>1460.00</td>\n",
       "      <td>10</td>\n",
       "    </tr>\n",
       "    <tr>\n",
       "      <th>35822481</th>\n",
       "      <td>2022-12-31</td>\n",
       "      <td>Saturday</td>\n",
       "      <td>18</td>\n",
       "      <td>Monthly Pass</td>\n",
       "      <td>0.79</td>\n",
       "      <td>3396.39</td>\n",
       "      <td>18</td>\n",
       "    </tr>\n",
       "  </tbody>\n",
       "</table>\n",
       "<p>35822482 rows × 7 columns</p>\n",
       "</div>"
      ],
      "text/plain": [
       "               Date       Day  Rental Time   Rental Code  Carbon(g)  \\\n",
       "0        2022-01-01  Saturday           18    Daily Pass       0.00   \n",
       "1        2022-01-01  Saturday           17  Monthly Pass       0.65   \n",
       "2        2022-01-01  Saturday           17  Monthly Pass       0.19   \n",
       "3        2022-01-01  Saturday           17  Monthly Pass       1.12   \n",
       "4        2022-01-01  Saturday           17  Monthly Pass       2.17   \n",
       "...             ...       ...          ...           ...        ...   \n",
       "35822477 2022-12-31  Saturday           12  Monthly Pass       0.39   \n",
       "35822478 2022-12-31  Saturday           12  Monthly Pass       0.20   \n",
       "35822479 2022-12-31  Saturday           12  Monthly Pass       0.24   \n",
       "35822480 2022-12-31  Saturday           12  Monthly Pass       0.34   \n",
       "35822481 2022-12-31  Saturday           18  Monthly Pass       0.79   \n",
       "\n",
       "          Distance(m)  Using Time(M)  \n",
       "0                0.00             10  \n",
       "1             2810.35             20  \n",
       "2              820.00              6  \n",
       "3             4822.50             29  \n",
       "4             9360.00             50  \n",
       "...               ...            ...  \n",
       "35822477      1680.00             13  \n",
       "35822478       846.55              4  \n",
       "35822479      1035.15             11  \n",
       "35822480      1460.00             10  \n",
       "35822481      3396.39             18  \n",
       "\n",
       "[35822482 rows x 7 columns]"
      ]
     },
     "execution_count": 25,
     "metadata": {},
     "output_type": "execute_result"
    }
   ],
   "source": [
    "df"
   ]
  },
  {
   "cell_type": "markdown",
   "id": "4db45a48",
   "metadata": {},
   "source": [
    "# 평일 시간별 이용자 분포"
   ]
  },
  {
   "cell_type": "code",
   "execution_count": 26,
   "id": "2fbf6156",
   "metadata": {},
   "outputs": [],
   "source": [
    "weekday = df[(df['Day']!='Saturday') & (df['Day']!='Sunday')]"
   ]
  },
  {
   "cell_type": "code",
   "execution_count": 89,
   "id": "bfeebbe2",
   "metadata": {},
   "outputs": [
    {
     "data": {
      "image/png": "[encoded data removed]",
      "text/plain": [
       "<Figure size 4000x1000 with 1 Axes>"
      ]
     },
     "metadata": {},
     "output_type": "display_data"
    }
   ],
   "source": [
    "import matplotlib.colors as mcolors\n",
    "import random\n",
    "\n",
    "a = weekday['Rental Time'].value_counts()\n",
    "\n",
    "fig, ax1 = plt.subplots(figsize=(40, 10), facecolor='#FFFCEA')\n",
    "\n",
    "# plt.bar(a.index, a, color=color_palette)\n",
    "sns.barplot(x=a.index, y=a) # 색깔 잘 되려면..\n",
    "\n",
    "# 그래프 제목과 축 레이블 설정\n",
    "plt.xlabel('Time', fontdict={'fontsize':25})\n",
    "plt.ylabel('User Count', fontdict={'fontsize':25})\n",
    "\n",
    "plt.xticks(a.index[::1], a.index[::1], fontsize=20)\n",
    "plt.yticks(fontsize=20)\n",
    "plt.title('Distribution of Public Bicycle Users on Weekdays', fontdict = {'fontsize' : 40, 'fontweight': 'bold'})\n",
    "plt.rcParams['font.size'] = 20\n",
    "\n",
    "plt.show()"
   ]
  },
  {
   "cell_type": "code",
   "execution_count": 31,
   "id": "f6d34302",
   "metadata": {},
   "outputs": [
    {
     "data": {
      "text/plain": [
       "26736174"
      ]
     },
     "execution_count": 31,
     "metadata": {},
     "output_type": "execute_result"
    }
   ],
   "source": [
    "len(weekday)"
   ]
  },
  {
   "cell_type": "code",
   "execution_count": 33,
   "id": "f319a985",
   "metadata": {},
   "outputs": [
    {
     "data": {
      "text/plain": [
       "4771439"
      ]
     },
     "execution_count": 33,
     "metadata": {},
     "output_type": "execute_result"
    }
   ],
   "source": [
    "commuting = weekday[(weekday['Rental Time']==8) | (weekday['Rental Time']==18)]\n",
    "len(commuting)"
   ]
  },
  {
   "cell_type": "code",
   "execution_count": 34,
   "id": "2d42167c",
   "metadata": {},
   "outputs": [
    {
     "data": {
      "text/plain": [
       "17.846379216412938"
      ]
     },
     "execution_count": 34,
     "metadata": {},
     "output_type": "execute_result"
    }
   ],
   "source": [
    "len(commuting)/len(weekday)*100"
   ]
  },
  {
   "cell_type": "markdown",
   "id": "d0c20fda",
   "metadata": {},
   "source": [
    "# 탄소 세이브량"
   ]
  },
  {
   "cell_type": "code",
   "execution_count": 30,
   "id": "f195cc96",
   "metadata": {},
   "outputs": [
    {
     "data": {
      "text/plain": [
       "24048788.11999997"
      ]
     },
     "execution_count": 30,
     "metadata": {},
     "output_type": "execute_result"
    }
   ],
   "source": [
    "df['Carbon(g)'].sum()"
   ]
  },
  {
   "cell_type": "markdown",
   "id": "600f0496",
   "metadata": {},
   "source": [
    "# 대여권 정보"
   ]
  },
  {
   "cell_type": "code",
   "execution_count": 36,
   "id": "ce6efbf4",
   "metadata": {},
   "outputs": [
    {
     "data": {
      "text/plain": [
       "Monthly Pass              29039485\n",
       "Daily Pass                 6458607\n",
       "Daily Pass(Non-member)      324390\n",
       "Name: Rental Code, dtype: int64"
      ]
     },
     "execution_count": 36,
     "metadata": {},
     "output_type": "execute_result"
    }
   ],
   "source": [
    "df['Rental Code'].value_counts()"
   ]
  },
  {
   "cell_type": "code",
   "execution_count": 43,
   "id": "13c310c9",
   "metadata": {},
   "outputs": [
    {
     "data": {
      "text/plain": [
       "array(['Daily Pass', 'Monthly Pass', 'Daily Pass(Non-member)'],\n",
       "      dtype=object)"
      ]
     },
     "execution_count": 43,
     "metadata": {},
     "output_type": "execute_result"
    }
   ],
   "source": [
    "df['Rental Code'].unique()"
   ]
  },
  {
   "cell_type": "code",
   "execution_count": 37,
   "id": "52a806bf",
   "metadata": {},
   "outputs": [],
   "source": [
    "commuting = df[(df['Day']!='Saturday') & (df['Day']!='Sunday')&((df['Rental Time']==8) | (df['Rental Time']==18))]"
   ]
  },
  {
   "cell_type": "code",
   "execution_count": 40,
   "id": "6e30dfa6",
   "metadata": {},
   "outputs": [
    {
     "data": {
      "text/plain": [
       "Monthly Pass              4201774\n",
       "Daily Pass                 546341\n",
       "Daily Pass(Non-member)      23324\n",
       "Name: Rental Code, dtype: int64"
      ]
     },
     "execution_count": 40,
     "metadata": {},
     "output_type": "execute_result"
    }
   ],
   "source": [
    "commuting['Rental Code'].value_counts()"
   ]
  },
  {
   "cell_type": "code",
   "execution_count": 79,
   "id": "db1a44d4",
   "metadata": {},
   "outputs": [
    {
     "data": {
      "image/png": "[encoded data removed]",
      "text/plain": [
       "<Figure size 640x480 with 1 Axes>"
      ]
     },
     "metadata": {},
     "output_type": "display_data"
    }
   ],
   "source": [
    "plt.figure(facecolor='#FFFCEA')\n",
    "labels = ['Monthly Pass', 'Daily Pass', 'Daily Pass (Non-member)']\n",
    "sizes = df['Rental Code'].value_counts()\n",
    "colors = ['#80ABEB','#B1CBAF', '#FFD169']\n",
    "\n",
    "\n",
    "plt.pie(sizes, labels=labels, colors=colors, autopct='%1.1f%%', startangle=90, textprops={'fontsize': 15})\n",
    "\n",
    "plt.axis('equal')\n",
    "\n",
    "\n",
    "# plt.gca().set_facecolor('none')\n",
    "plt.title('Pass Usage Rate', fontdict = {'fontsize' : 18})\n",
    "\n",
    "plt.show()\n"
   ]
  },
  {
   "cell_type": "code",
   "execution_count": null,
   "id": "d5f82dba",
   "metadata": {},
   "outputs": [],
   "source": [
    "plt.savefig('myfigure.pdf', transparent = True)"
   ]
  },
  {
   "cell_type": "code",
   "execution_count": 46,
   "id": "eed75b34",
   "metadata": {},
   "outputs": [
    {
     "data": {
      "text/plain": [
       "array(['Daily Pass', 'Monthly Pass', 'Daily Pass(Non-member)'],\n",
       "      dtype=object)"
      ]
     },
     "execution_count": 46,
     "metadata": {},
     "output_type": "execute_result"
    }
   ],
   "source": [
    "labels"
   ]
  },
  {
   "cell_type": "code",
   "execution_count": 87,
   "id": "11c5b001",
   "metadata": {},
   "outputs": [
    {
     "data": {
      "image/png": "[encoded data removed]",
      "text/plain": [
       "<Figure size 640x480 with 1 Axes>"
      ]
     },
     "metadata": {},
     "output_type": "display_data"
    }
   ],
   "source": [
    "labels = ['Monthly Pass', 'Daily Pass', 'Daily Pass (Non-member)']\n",
    "sizes = commuting['Rental Code'].value_counts()\n",
    "colors = ['red', 'blue', 'green']\n",
    "explode = (0, 0, 0.1)  # 부채꼴이 돌출되는 정도\n",
    "\n",
    "# 파이 차트 그리기\n",
    "plt.pie(sizes, explode=explode, labels=labels, colors=colors, autopct='%1.1f%%', shadow=True, startangle=90)\n",
    "\n",
    "# 원 모양으로 설정\n",
    "plt.axis('equal')\n",
    "\n",
    "# 차트 제목 추가\n",
    "plt.title('Monthly Pass Distribution')\n",
    "\n",
    "# 차트 표시\n",
    "plt.show()\n"
   ]
  },
  {
   "cell_type": "code",
   "execution_count": 88,
   "id": "7d496963",
   "metadata": {},
   "outputs": [
    {
     "data": {
      "image/png": "[encoded data removed]",
      "text/plain": [
       "<Figure size 640x480 with 1 Axes>"
      ]
     },
     "metadata": {},
     "output_type": "display_data"
    }
   ],
   "source": [
    "plt.figure(facecolor='#FFFCEA')\n",
    "labels = ['Monthly Pass', 'Daily Pass', 'Daily Pass (Non-member)']\n",
    "sizes = commuting['Rental Code'].value_counts()\n",
    "colors = ['#80ABEB','#B1CBAF', '#FFD169']\n",
    "\n",
    "\n",
    "plt.pie(sizes, labels=labels, colors=colors, autopct='%1.1f%%', startangle=90, textprops={'fontsize': 15})\n",
    "\n",
    "plt.axis('equal')\n",
    "\n",
    "\n",
    "# plt.gca().set_facecolor('none')\n",
    "plt.title('Pass Usage Rate during Commute Hours', fontdict = {'fontsize' : 18})\n",
    "\n",
    "plt.show()\n"
   ]
  },
  {
   "cell_type": "code",
   "execution_count": null,
   "id": "b5f6ee86",
   "metadata": {},
   "outputs": [],
   "source": []
  }
 ],
 "metadata": {
  "kernelspec": {
   "display_name": "Python 3 (ipykernel)",
   "language": "python",
   "name": "python3"
  },
  "language_info": {
   "codemirror_mode": {
    "name": "ipython",
    "version": 3
   },
   "file_extension": ".py",
   "mimetype": "text/x-python",
   "name": "python",
   "nbconvert_exporter": "python",
   "pygments_lexer": "ipython3",
   "version": "3.9.13"
  }
 },
 "nbformat": 4,
 "nbformat_minor": 5
}
